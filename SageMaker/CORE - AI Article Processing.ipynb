{
 "cells": [
  {
   "cell_type": "markdown",
   "metadata": {},
   "source": [
    "# CORE - Analysis of \"Artificial Intelligence\" Search Results"
   ]
  },
  {
   "cell_type": "markdown",
   "metadata": {},
   "source": [
    "Imports"
   ]
  },
  {
   "cell_type": "code",
   "execution_count": 22,
   "metadata": {},
   "outputs": [],
   "source": [
    "import boto3\n",
    "import pandas as pd\n",
    "import json\n",
    "import ast"
   ]
  },
  {
   "cell_type": "markdown",
   "metadata": {},
   "source": [
    "Declarations"
   ]
  },
  {
   "cell_type": "code",
   "execution_count": 2,
   "metadata": {},
   "outputs": [],
   "source": [
    "core_bucket_name = 'core0823'"
   ]
  },
  {
   "cell_type": "markdown",
   "metadata": {},
   "source": [
    "Prep"
   ]
  },
  {
   "cell_type": "code",
   "execution_count": 3,
   "metadata": {},
   "outputs": [],
   "source": [
    "s3_client = boto3.client('s3')"
   ]
  },
  {
   "cell_type": "code",
   "execution_count": 4,
   "metadata": {},
   "outputs": [],
   "source": [
    "json_list = [i['Key'] for i in s3_client.list_objects(Bucket=core_bucket_name)['Contents']]"
   ]
  },
  {
   "cell_type": "code",
   "execution_count": 6,
   "metadata": {},
   "outputs": [],
   "source": [
    "def s3_file_location(f_bucket, f_file):\n",
    "    \"\"\"\n",
    "    Simply returns a formatted string with the S3 file location\n",
    "    \"\"\"\n",
    "    data_location = 's3://{}/{}'.format(f_bucket,f_file)\n",
    "    return data_location"
   ]
  },
  {
   "cell_type": "code",
   "execution_count": 7,
   "metadata": {},
   "outputs": [],
   "source": [
    "def json_file_to_dict(f_bucket, f_json_file):\n",
    "    \"\"\"\n",
    "    Intakes bucket and json file.\n",
    "    Returns dictionary.\n",
    "    \"\"\"\n",
    "    try:\n",
    "        json_s3_obj = s3_client.get_object( Bucket= f_bucket, Key = f_json_file )\n",
    "        tmp_str_json = json_s3_obj['Body'].read().decode('utf-8')\n",
    "        fnl_json = ast.literal_eval(tmp_str_json)\n",
    "        return fnl_json\n",
    "    except:\n",
    "        pass \n",
    "        print('Fail importing json file/')\n",
    "    \n",
    "    "
   ]
  },
  {
   "cell_type": "code",
   "execution_count": 24,
   "metadata": {},
   "outputs": [
    {
     "data": {
      "text/plain": [
       "dict_keys(['status', 'totalHits', 'data'])"
      ]
     },
     "execution_count": 24,
     "metadata": {},
     "output_type": "execute_result"
    }
   ],
   "source": [
    "test_func_json.keys()"
   ]
  },
  {
   "cell_type": "code",
   "execution_count": 33,
   "metadata": {},
   "outputs": [
    {
     "data": {
      "text/plain": [
       "{'_index': 'articles_2019_06_05',\n",
       " '_type': 'article',\n",
       " '_id': '23183654',\n",
       " '_score': 33.328217,\n",
       " '_source': {'id': '23183654',\n",
       "  'authors': ['Artificial Intelligence'],\n",
       "  'citations': [],\n",
       "  'contributors': ['The Pennsylvania State University CiteSeerX Archives'],\n",
       "  'datePublished': '2013-09-21',\n",
       "  'deleted': 'ALLOWED',\n",
       "  'description': 'Discovering how the brain works is perhaps the most extraordinary scientific challenge of our time. Advances in understanding the brain will inform medical research into new treatments for neurological disorders, as well as lead to powerful new techniques in artificial intelligence and robot control. To meet this challenge, our foundation is raising funds to support a new Centre for Theoretical Neuroscience at Oxford, which will be dedicated to teaching and research in computer modelling of the brain. The Centre is currently based within the Oxford University Department of Experimental Psychology. Over the last year, we have made important contributions to understanding various areas of brain function, including for example: How do our visual systems learn to make sens',\n",
       "  'fullText': None,\n",
       "  'fullTextIdentifier': 'http://citeseerx.ist.psu.edu/viewdoc/summary?doi=10.1.1.352.1504',\n",
       "  'identifiers': ['oai:CiteSeerX.psu:10.1.1.352.1504', None],\n",
       "  'journals': None,\n",
       "  'language': None,\n",
       "  'duplicateId': None,\n",
       "  'publisher': None,\n",
       "  'rawRecordXml': '<record><header><identifier>\\n    \\n      \\n        oai:CiteSeerX.psu:10.1.1.352.1504</identifier><datestamp>\\n        2013-09-21</datestamp>\\n      </header><metadata><oai_dc:dc xmlns:oai_dc=\"http://www.openarchives.org/OAI/2.0/oai_dc/\" xmlns:dc=\"http://purl.org/dc/elements/1.1/\" xsi:schemaLocation=\"http://www.openarchives.org/OAI/2.0/oai_dc/ http://www.openarchives.org/OAI/2.0/oai_dc.xsd\" ><dc:title>\\n      \\n        \\n          Oxford Foundation for Theoretical</dc:title><dc:creator>\\n          Artificial Intelligence</dc:creator><dc:description>\\n          Discovering how the brain works is perhaps the most extraordinary scientific challenge of our time. Advances in understanding the brain will inform medical research into new treatments for neurological disorders, as well as lead to powerful new techniques in artificial intelligence and robot control. To meet this challenge, our foundation is raising funds to support a new Centre for Theoretical Neuroscience at Oxford, which will be dedicated to teaching and research in computer modelling of the brain. The Centre is currently based within the Oxford University Department of Experimental Psychology. Over the last year, we have made important contributions to understanding various areas of brain function, including for example: How do our visual systems learn to make sense</dc:description><dc:contributor>\\n          The Pennsylvania State University CiteSeerX Archives</dc:contributor><dc:publisher>\\n          </dc:publisher><dc:date>\\n          2013-09-21</dc:date><dc:date>\\n          2013-09-21</dc:date><dc:format>\\n          application/pdf</dc:format><dc:type>\\n          text</dc:type><dc:identifier>\\n          http://citeseerx.ist.psu.edu/viewdoc/summary?doi=10.1.1.352.1504</dc:identifier><dc:source>\\n          http://www.oftnai.org/pdf/OFTNAI_Newsletter_2008.pdf</dc:source><dc:language>\\n          en</dc:language><dc:rights>\\n          Metadata may be used without restrictions as long as the oai identifier remains attached to it.</dc:rights>\\n        </oai_dc:dc>\\n      </metadata>\\n    </record>',\n",
       "  'relations': [],\n",
       "  'repositories': [{'id': '145',\n",
       "    'openDoarId': 0,\n",
       "    'name': 'CiteSeerX',\n",
       "    'uri': None,\n",
       "    'urlHomepage': None,\n",
       "    'urlOaipmh': None,\n",
       "    'uriJournals': None,\n",
       "    'physicalName': 'noname',\n",
       "    'source': None,\n",
       "    'software': None,\n",
       "    'metadataFormat': None,\n",
       "    'description': None,\n",
       "    'journal': None,\n",
       "    'roarId': 0,\n",
       "    'pdfStatus': None,\n",
       "    'nrUpdates': 0,\n",
       "    'disabled': False,\n",
       "    'lastUpdateTime': None,\n",
       "    'repositoryLocation': None}],\n",
       "  'repositoryDocument': {'pdfStatus': 0,\n",
       "   'textStatus': 0,\n",
       "   'metadataAdded': 1414010943000,\n",
       "   'metadataUpdated': 1529439877000,\n",
       "   'timestamp': 1379718000000,\n",
       "   'depositedDate': 1379718000000,\n",
       "   'indexed': 1,\n",
       "   'deletedStatus': '0',\n",
       "   'pdfSize': 0,\n",
       "   'tdmOnly': False,\n",
       "   'pdfOrigin': 'http://citeseerx.ist.psu.edu/viewdoc/summary?doi=10.1.1.352.1504'},\n",
       "  'similarities': None,\n",
       "  'subjects': ['text'],\n",
       "  'title': 'Oxford Foundation for Theoretical',\n",
       "  'topics': [],\n",
       "  'types': [],\n",
       "  'urls': ['http://citeseerx.ist.psu.edu/viewdoc/summary?doi=10.1.1.352.1504',\n",
       "   'http://www.oftnai.org/pdf/OFTNAI_Newsletter_2008.pdf'],\n",
       "  'year': 2013,\n",
       "  'doi': None,\n",
       "  'oai': 'oai:CiteSeerX.psu:10.1.1.352.1504',\n",
       "  'downloadUrl': '',\n",
       "  'pdfHashValue': None,\n",
       "  'documentType': None,\n",
       "  'documentTypeConfidence': None,\n",
       "  'citationCount': None,\n",
       "  'estimatedCitationCount': None,\n",
       "  'acceptedDate': None,\n",
       "  'depositedDate': 1379718000000,\n",
       "  'publishedDate': None,\n",
       "  'issn': None,\n",
       "  'crossrefDocument': None,\n",
       "  'magDocument': None}}"
      ]
     },
     "execution_count": 33,
     "metadata": {},
     "output_type": "execute_result"
    }
   ],
   "source": [
    "test_func_json['data'][0]"
   ]
  },
  {
   "cell_type": "code",
   "execution_count": 102,
   "metadata": {},
   "outputs": [
    {
     "data": {
      "text/plain": [
       "True"
      ]
     },
     "execution_count": 102,
     "metadata": {},
     "output_type": "execute_result"
    }
   ],
   "source": [
    "test_func_json['data'][4]['_source']['description'] is None"
   ]
  }
 ],
 "metadata": {
  "kernelspec": {
   "display_name": "conda_chainer_p36",
   "language": "python",
   "name": "conda_chainer_p36"
  },
  "language_info": {
   "codemirror_mode": {
    "name": "ipython",
    "version": 3
   },
   "file_extension": ".py",
   "mimetype": "text/x-python",
   "name": "python",
   "nbconvert_exporter": "python",
   "pygments_lexer": "ipython3",
   "version": "3.6.10"
  }
 },
 "nbformat": 4,
 "nbformat_minor": 4
}
