{
 "cells": [
  {
   "cell_type": "markdown",
   "metadata": {},
   "source": [
    "# CORE #1 API Call\n",
    "Testing making the API calls directly on SageMaker"
   ]
  },
  {
   "cell_type": "code",
   "execution_count": 9,
   "metadata": {},
   "outputs": [],
   "source": [
    "import requests\n",
    "import getpass\n",
    "import json\n",
    "import boto3 "
   ]
  },
  {
   "cell_type": "code",
   "execution_count": 10,
   "metadata": {},
   "outputs": [],
   "source": [
    "search_list = ['artificial intelligence','machine learning','intelligent agent','autonomous']"
   ]
  },
  {
   "cell_type": "code",
   "execution_count": 11,
   "metadata": {},
   "outputs": [],
   "source": [
    "bucket_name = 'core0823'"
   ]
  },
  {
   "cell_type": "code",
   "execution_count": 12,
   "metadata": {},
   "outputs": [
    {
     "name": "stdin",
     "output_type": "stream",
     "text": [
      "Key:  ································\n"
     ]
    }
   ],
   "source": [
    "api_key = getpass.getpass(\"Key: \") #shhh you don't need to know this"
   ]
  },
  {
   "cell_type": "code",
   "execution_count": 13,
   "metadata": {},
   "outputs": [],
   "source": [
    "s3 = boto3.client('s3',\n",
    "    region_name = 'us-east-1'\n",
    "                 )"
   ]
  },
  {
   "cell_type": "code",
   "execution_count": 18,
   "metadata": {},
   "outputs": [],
   "source": [
    "def create_api_param(f_key, f_page, f_pagesize):\n",
    "    \"\"\"\n",
    "    Retunrs formatted dictionary with api parameters.\n",
    "    \"\"\"\n",
    "    f_api_param = {\"page\": f_page, \"pageSize\": f_pagesize, \"apiKey\": f_key, }\n",
    "    return f_api_param\n",
    "\n",
    "\n",
    "def get_search_results(f_search_url, f_search_term, f_search_params_dic):\n",
    "    \"\"\"\n",
    "    Make the API call and return JSON data\n",
    "    \"\"\"\n",
    "    try: \n",
    "        f_search_term = f_search_term.replace(' ','%20')\n",
    "        search_url = f_search_url + f_search_term\n",
    "        search_response = requests.get(search_url, params=f_search_params_dic)\n",
    "        call_status = search_response.status_code\n",
    "        if call_status == 200:\n",
    "            search_json_data = search_response.json()\n",
    "        \n",
    "        return search_json_data\n",
    "    \n",
    "    except:\n",
    "        print('Error in API call.')\n",
    "\n",
    "\n",
    "def main(f_search_term, f_key, f_bucket):\n",
    "    results_list = []\n",
    "    api_search_url = 'https://core.ac.uk/api-v2/search/'\n",
    "    pageSize = 100\n",
    "    page_list = range(1,100,1)\n",
    "    try:\n",
    "        for i in page_list:\n",
    "            api_parm = create_api_param(f_key, i, pageSize)\n",
    "            tmp_json_data = get_search_results(api_search_url, f_search_term, api_parm)\n",
    "            file_key = 'Core ' + f_search_term + ' page' + str(i) + '.json'\n",
    "            s3.put_object(Body=str(tmp_json_data), Bucket=f_bucket, Key=file_key)   \n",
    "            results_list.append( f_search_term + ' Page ' + str(i) )\n",
    "        return results_list\n",
    "    except:\n",
    "        pass"
   ]
  },
  {
   "cell_type": "code",
   "execution_count": 19,
   "metadata": {},
   "outputs": [
    {
     "name": "stdout",
     "output_type": "stream",
     "text": [
      "Error in API call.\n",
      "Error in API call.\n"
     ]
    }
   ],
   "source": [
    "successes = []\n",
    "for search_term in search_list:\n",
    "    tmp_list = main(search_term, api_key, bucket_name)\n",
    "    successes.append(tmp_list)"
   ]
  },
  {
   "cell_type": "code",
   "execution_count": null,
   "metadata": {},
   "outputs": [],
   "source": []
  }
 ],
 "metadata": {
  "kernelspec": {
   "display_name": "conda_python3",
   "language": "python",
   "name": "conda_python3"
  },
  "language_info": {
   "codemirror_mode": {
    "name": "ipython",
    "version": 3
   },
   "file_extension": ".py",
   "mimetype": "text/x-python",
   "name": "python",
   "nbconvert_exporter": "python",
   "pygments_lexer": "ipython3",
   "version": "3.6.10"
  }
 },
 "nbformat": 4,
 "nbformat_minor": 4
}
