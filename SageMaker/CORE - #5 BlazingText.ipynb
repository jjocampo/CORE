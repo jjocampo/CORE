{
 "cells": [
  {
   "cell_type": "markdown",
   "metadata": {},
   "source": [
    "# CORE #4 Text Processing"
   ]
  },
  {
   "cell_type": "markdown",
   "metadata": {},
   "source": [
    "* Ingestion of data in S3 from the CORE API stored data as JSONs with up to 100 search results stored in each file. \n",
    "Per [BlazingText Documentation](https://docs.aws.amazon.com/sagemaker/latest/dg/blazingtext.html), the algorithm requires each line of the input file should contain a single sentence of space separated tokens. Raw data will need to be processed to accomodate the training format. \n",
    "* In # 3, text was extracted from the JSON results and stored in S3. This code picks up from there, prepares the text for modeling, and stores to S3. "
   ]
  },
  {
   "cell_type": "markdown",
   "metadata": {},
   "source": [
    "## Initial Prep"
   ]
  },
  {
   "cell_type": "markdown",
   "metadata": {},
   "source": [
    "Imports"
   ]
  },
  {
   "cell_type": "code",
   "execution_count": null,
   "metadata": {},
   "outputs": [],
   "source": [
    "import time\n",
    "from datetime import datetime\n",
    "import boto3\n",
    "import pandas as pd\n",
    "import pickle\n",
    "import sagemaker\n",
    "from sagemaker import get_execution_role"
   ]
  },
  {
   "cell_type": "markdown",
   "metadata": {},
   "source": [
    "Declarations"
   ]
  },
  {
   "cell_type": "code",
   "execution_count": null,
   "metadata": {},
   "outputs": [],
   "source": [
    "core_bucket_name = 'core0823'\n",
    "stg_bucket = 'core0823-stg'\n",
    "fnl_bucket = 'core0823-fnl'\n",
    "psent_key='BT_STG/prepd_sentences.txt'\n",
    "\n",
    "train_data_path = 's3://{}/{}'.format(stg_bucket,psent_key)\n",
    "model_path = 's3://{}/{}'.format(fnl_bucket,'blztxt')"
   ]
  },
  {
   "cell_type": "markdown",
   "metadata": {},
   "source": [
    "Prep"
   ]
  },
  {
   "cell_type": "code",
   "execution_count": null,
   "metadata": {},
   "outputs": [],
   "source": [
    "s3_client = boto3.client('s3')"
   ]
  },
  {
   "cell_type": "markdown",
   "metadata": {},
   "source": [
    "Generic Functions"
   ]
  },
  {
   "cell_type": "code",
   "execution_count": null,
   "metadata": {},
   "outputs": [],
   "source": [
    "def s3_file_location(f_bucket, f_file):\n",
    "    \"\"\"\n",
    "    Simply returns a formatted string with the S3 file location\n",
    "    \"\"\"\n",
    "    data_location = 's3://{}/{}'.format(f_bucket,f_file)\n",
    "    return data_location\n",
    "\n",
    "def serialobj_file_to_list(f_bucket, f_obj_key):\n",
    "    \"\"\"\n",
    "    Intakes bucket and the key for a serialized object. \n",
    "    In this case it is a serialized list object from CORE #3.\n",
    "    Returns list.\n",
    "    \"\"\"\n",
    "    try:\n",
    "        s3_obj = s3_client.get_object( Bucket= f_bucket, Key = f_obj_key )['Body'].read()\n",
    "        return pickle.loads(s3_obj)\n",
    "    except:\n",
    "        pass \n",
    "        print('Fail getting and deserialization object.')"
   ]
  },
  {
   "cell_type": "code",
   "execution_count": null,
   "metadata": {},
   "outputs": [],
   "source": [
    "response = s3_client.put_object(Body=prepd_sentences_serialized, Bucket='core0823-stg', Key='BT_STG/prepd_sentences.txt')"
   ]
  },
  {
   "cell_type": "markdown",
   "metadata": {},
   "source": [
    "## BlazingText"
   ]
  },
  {
   "cell_type": "code",
   "execution_count": null,
   "metadata": {},
   "outputs": [],
   "source": [
    "sess = sagemaker.Session()\n",
    "role = get_execution_role()"
   ]
  },
  {
   "cell_type": "code",
   "execution_count": null,
   "metadata": {},
   "outputs": [],
   "source": [
    "region_name = boto3.Session().region_name\n",
    "container = sagemaker.amazon.amazon_estimator.get_image_uri(region_name, 'blazingtext','latest')"
   ]
  },
  {
   "cell_type": "code",
   "execution_count": null,
   "metadata": {},
   "outputs": [],
   "source": [
    "bt_model = sagemaker.estimator.Estimator(container,\n",
    "                                        role,\n",
    "                                        train_instance_count=2,\n",
    "                                        train_instance_type='m.c4.2xlarge',\n",
    "                                        train_volume_size=5,\n",
    "                                        train_max_run=360000,\n",
    "                                        input_mode='File',\n",
    "                                        output_path=model_path,\n",
    "                                        sagemaker_session_sess)\n",
    "\n",
    "bt_model.set_hyperparameters(mode='batch_skipgram',\n",
    "                            epochs=5,\n",
    "                            min_count=5,\n",
    "                            sampling_threshold=0.0001,\n",
    "                            learning_rate=0.05,\n",
    "                            window_size=5,\n",
    "                            vector_dim=100,\n",
    "                            negative_samples=5,\n",
    "                            batch_size=11,\n",
    "                            evaluation=True,\n",
    "                            subwords=False)"
   ]
  },
  {
   "cell_type": "code",
   "execution_count": null,
   "metadata": {},
   "outputs": [],
   "source": [
    "# need to check that content_type='text/plain' is correct because pickle dumps was used to write list to file\n",
    "bt_train_date = sagemaker.session.s3_input(train_data_path, distribution-'FullyReplicated',\n",
    "                                          content_type='text/plain',s3_data_type='S3Prefix')\n",
    "\n",
    "bt_data_channels = {'train' : train_data }"
   ]
  },
  {
   "cell_type": "code",
   "execution_count": null,
   "metadata": {},
   "outputs": [],
   "source": [
    "bt_model.fit(inputs=bt_data_channels, log=True)"
   ]
  }
 ],
 "metadata": {
  "instance_type": "ml.t3.medium",
  "kernelspec": {
   "display_name": "conda_python3",
   "language": "python",
   "name": "conda_python3"
  },
  "language_info": {
   "codemirror_mode": {
    "name": "ipython",
    "version": 3
   },
   "file_extension": ".py",
   "mimetype": "text/x-python",
   "name": "python",
   "nbconvert_exporter": "python",
   "pygments_lexer": "ipython3",
   "version": "3.6.10"
  }
 },
 "nbformat": 4,
 "nbformat_minor": 4
}
